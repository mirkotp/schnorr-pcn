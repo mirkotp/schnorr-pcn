{
 "cells": [
  {
   "cell_type": "code",
   "execution_count": 1,
   "id": "77843d06-c3fc-454d-8afe-c34acf2f2705",
   "metadata": {},
   "outputs": [],
   "source": [
    "from abc import ABC, abstractmethod\n",
    "from collections import namedtuple\n",
    "\n",
    "from charm.toolbox.eccurve import prime192v1\n",
    "from charm.toolbox.ecgroup import ECGroup, G, ZR\n",
    "from charm.toolbox.integergroup import IntegerGroupQ"
   ]
  },
  {
   "cell_type": "code",
   "execution_count": 2,
   "id": "914d3e16-1f8c-49c6-861a-fd5dcca5e1d3",
   "metadata": {},
   "outputs": [],
   "source": [
    "class SchnorrGroup(ABC):\n",
    "    @abstractmethod\n",
    "    def order(self):\n",
    "        pass\n",
    "    @abstractmethod\n",
    "    def random_generator(self):\n",
    "        pass\n",
    "    @abstractmethod\n",
    "    def random_scalar(self):\n",
    "        pass\n",
    "    @abstractmethod\n",
    "    def hash(self, *args):\n",
    "        pass\n",
    "\n",
    "class IntegerSchnorrGroup(SchnorrGroup):\n",
    "    def __init__(self, bits):\n",
    "        self.group = IntegerGroupQ()\n",
    "        self.group.paramgen(bits)\n",
    "    def order(self):\n",
    "        return self.group.q\n",
    "    def random_generator(self):\n",
    "        return self.group.randomGen()\n",
    "    def random_scalar(self):\n",
    "        return self.group.random()\n",
    "    def hash(self, *args):\n",
    "        return self.group.hash(*args)\n",
    "\n",
    "class ECSchnorrGroup(SchnorrGroup):\n",
    "    def __init__(self, curve):\n",
    "        self.group = ECGroup(curve)\n",
    "    def order(self):\n",
    "        return self.group.order()\n",
    "    def random_generator(self):\n",
    "        return self.group.random(G)\n",
    "    def random_scalar(self):\n",
    "        return self.group.random(ZR)\n",
    "    def hash(self, *args):\n",
    "        return self.group.hash(args)"
   ]
  },
  {
   "cell_type": "code",
   "execution_count": 3,
   "id": "a1243728-1786-4836-b555-7ea768aad04f",
   "metadata": {},
   "outputs": [],
   "source": [
    "Params = namedtuple('Params', ('group', 'g'))\n",
    "Proof = namedtuple('Proof', ('u', 'z'))\n",
    "\n",
    "def generate_params(group):\n",
    "    g = group.random_generator()\n",
    "    return Params(group=group, g=g)\n",
    "\n",
    "def generate_witness_and_statement(params):\n",
    "    x = params.group.random_scalar()\n",
    "    h = params.g ** x\n",
    "    return (x, h)\n",
    "\n",
    "def prover(params, h, x):\n",
    "    r = params.group.random_scalar()\n",
    "    u = params.g ** r\n",
    "    c = params.group.hash(params.g, params.group.order(), h, u)\n",
    "    z = r + c * x\n",
    "    return Proof(u=u, z=z)\n",
    "\n",
    "def verifier(params, h, proof):\n",
    "    c = params.group.hash(params.g, params.group.order(), h, proof.u)\n",
    "    return params.g ** proof.z == proof.u * (h ** c)\n",
    "\n",
    "def test_correctness(iterations, group_class, **group_args):\n",
    "    for _ in range(iterations):\n",
    "        params = generate_params(group_class(**group_args))\n",
    "        x, h = generate_witness_and_statement(params)\n",
    "        proof = prover(params, h, x)\n",
    "        if not verifier(params, h, proof):\n",
    "            return False\n",
    "    return True\n",
    "\n",
    "def random_z_proof(params):\n",
    "    r = params.group.random_scalar()\n",
    "    u = params.g ** r\n",
    "    z = params.group.random_scalar()\n",
    "    return Proof(u=u, z=z)\n",
    "\n",
    "def test_random_z_proof_rejected(iterations, group_class, **group_args):\n",
    "    for _ in range(iterations):\n",
    "        params = generate_params(group_class(**group_args))\n",
    "        _, h = generate_witness_and_statement(params)\n",
    "        proof = random_z_proof(params)\n",
    "        if verifier(params, h, proof):\n",
    "            return False\n",
    "    return True"
   ]
  },
  {
   "cell_type": "code",
   "execution_count": 4,
   "id": "43596a7d-28cd-48d2-a6af-c811b38808ec",
   "metadata": {},
   "outputs": [
    {
     "name": "stdout",
     "output_type": "stream",
     "text": [
      "CPU times: user 4.83 s, sys: 75.8 ms, total: 4.91 s\n",
      "Wall time: 4.91 s\n"
     ]
    },
    {
     "data": {
      "text/plain": [
       "True"
      ]
     },
     "execution_count": 4,
     "metadata": {},
     "output_type": "execute_result"
    }
   ],
   "source": [
    "%time test_correctness(iterations=1000, group_class=IntegerSchnorrGroup, bits=128)"
   ]
  },
  {
   "cell_type": "code",
   "execution_count": 5,
   "id": "065adf19-6042-44a2-8387-ac76c8f68a6a",
   "metadata": {},
   "outputs": [
    {
     "name": "stdout",
     "output_type": "stream",
     "text": [
      "CPU times: user 1.9 s, sys: 15.9 ms, total: 1.92 s\n",
      "Wall time: 1.92 s\n"
     ]
    },
    {
     "data": {
      "text/plain": [
       "True"
      ]
     },
     "execution_count": 5,
     "metadata": {},
     "output_type": "execute_result"
    }
   ],
   "source": [
    "%time test_correctness(iterations=1000, group_class=ECSchnorrGroup, curve=prime192v1)"
   ]
  },
  {
   "cell_type": "code",
   "execution_count": 6,
   "id": "53db60c0-4707-49a4-b8bd-3f889cbb9368",
   "metadata": {},
   "outputs": [
    {
     "name": "stdout",
     "output_type": "stream",
     "text": [
      "CPU times: user 4.88 s, sys: 72 ms, total: 4.95 s\n",
      "Wall time: 4.95 s\n"
     ]
    },
    {
     "data": {
      "text/plain": [
       "True"
      ]
     },
     "execution_count": 6,
     "metadata": {},
     "output_type": "execute_result"
    }
   ],
   "source": [
    "%time test_random_z_proof_rejected(iterations=1000, group_class=IntegerSchnorrGroup, bits=128)"
   ]
  },
  {
   "cell_type": "code",
   "execution_count": 7,
   "id": "b7f29a14-9659-4d39-bc3f-15f8d219a67b",
   "metadata": {},
   "outputs": [
    {
     "name": "stdout",
     "output_type": "stream",
     "text": [
      "CPU times: user 1.91 s, sys: 11.9 ms, total: 1.92 s\n",
      "Wall time: 1.92 s\n"
     ]
    },
    {
     "data": {
      "text/plain": [
       "True"
      ]
     },
     "execution_count": 7,
     "metadata": {},
     "output_type": "execute_result"
    }
   ],
   "source": [
    "%time test_random_z_proof_rejected(iterations=1000, group_class=ECSchnorrGroup, curve=prime192v1)"
   ]
  },
  {
   "cell_type": "code",
   "execution_count": null,
   "id": "b685c2f5",
   "metadata": {},
   "outputs": [],
   "source": []
  }
 ],
 "metadata": {
  "kernelspec": {
   "display_name": "Python 3.7.13 ('crypto')",
   "language": "python",
   "name": "python3"
  },
  "language_info": {
   "codemirror_mode": {
    "name": "ipython",
    "version": 3
   },
   "file_extension": ".py",
   "mimetype": "text/x-python",
   "name": "python",
   "nbconvert_exporter": "python",
   "pygments_lexer": "ipython3",
   "version": "3.7.13"
  },
  "vscode": {
   "interpreter": {
    "hash": "2feeb1f8b7098a87380ecf0c908c9fe4e9f8726bbfb0a8aac637882c3c67f4f9"
   }
  }
 },
 "nbformat": 4,
 "nbformat_minor": 5
}
